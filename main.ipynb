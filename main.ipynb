{
 "cells": [
  {
   "cell_type": "code",
   "execution_count": 1,
   "source": [
    "# the module for extract text from a given PDF file\n",
    "from extract_text import PDF_to_Text\n",
    "# the module for ChatGPT translation via API call\n",
    "from translator import Translator"
   ],
   "outputs": [],
   "metadata": {}
  },
  {
   "cell_type": "code",
   "execution_count": 2,
   "source": [
    "def text_extractor(file_path):\n",
    "    \"\"\"This funciton is to extract the text contents from a PDF file.\n",
    "\n",
    "    Parameters\n",
    "    ----------\n",
    "    file_path : str\n",
    "        the absolute file path where the PDF file locates\n",
    "\n",
    "    Returns\n",
    "    -------\n",
    "    str\n",
    "        the last paragraph of the PDF file and the path for storing these \\\n",
    "        paragraph txt files\n",
    "    \"\"\"\n",
    "    try:\n",
    "        # initiate the class:\n",
    "        t_extractor = PDF_to_Text(file_path)\n",
    "        # create a directory to store the extracted text\n",
    "        t_extractor.create_directory()\n",
    "        # read a PDF file:\n",
    "        pdf = t_extractor.read_pdf()\n",
    "        # get all texts from a PDF file:\n",
    "        articles = t_extractor.get_txt()\n",
    "        # break down the document into paragraph level\n",
    "        doc, para_file_path = t_extractor.iterate()\n",
    "        \n",
    "        return doc, para_file_path\n",
    "    \n",
    "    except Exception as err:\n",
    "        print(err)\n",
    "\n",
    "def ChatGPT_translation(path, language):\n",
    "    \"\"\"This function is to execute the API call for ChatGPT translation.\n",
    "\n",
    "    Parameters\n",
    "    ----------\n",
    "    path : str\n",
    "        the location where the text files store for translation\n",
    "    language : str\n",
    "        the language you want ChatGPT to translate into\n",
    "    Returns\n",
    "    -------\n",
    "    Pandas Dataframe, str\n",
    "        the df with API log and the translation text\n",
    "    \"\"\"\n",
    "    try:\n",
    "        # initiate the class\n",
    "        t = Translator(path, language)\n",
    "        # create a directory for storing translation results\n",
    "        t.create_directory()\n",
    "        # get the file list from the paragraph text files\n",
    "        metadata = t.get_metadata()\n",
    "        # Ask ChatGPT to translate each paragraph txt file via API call\n",
    "        doc, translation_content = t.iterate()\n",
    "        # merge all the translation result files into a final txt file\n",
    "        t_results = t.merge_files()\n",
    "        # showing the cumulative price & tokens for this PDF translation\n",
    "        total_tokens = t.price_calculation()\n",
    "\n",
    "        return doc, t_results, total_tokens\n",
    "    \n",
    "    except Exception as err:\n",
    "        print(err)"
   ],
   "outputs": [],
   "metadata": {}
  },
  {
   "cell_type": "code",
   "execution_count": 3,
   "source": [
    "if __name__ == '__main__':\n",
    "    \n",
    "    language = 'traditional chinese' # put the language you'd like to ChatGPT to translate\n",
    "    file_path = '/Users/belleshen/Documents/translator_ChatGPT/translator_ChatGPT/Sci. Rep. 7, 161 (2017).pdf' # the PDF file absolute path\n",
    "    doc, para_file_path = text_extractor(file_path)\n",
    "    doc, t_results, total_tokens = ChatGPT_translation(para_file_path, language)"
   ],
   "outputs": [
    {
     "output_type": "stream",
     "name": "stdout",
     "text": [
      "the begin words you type in: The local electronic and atomic structures\n",
      "the end words you type in: least-squares-fitting computer program\n",
      "finishing extracting\n"
     ]
    },
    {
     "output_type": "stream",
     "name": "stderr",
     "text": [
      "100%|██████████| 2/2 [00:39<00:00, 19.99s/it]"
     ]
    },
    {
     "output_type": "stream",
     "name": "stdout",
     "text": [
      "\n",
      "Here is the summary of cost for this API call:\n",
      "total tokens: 1228, price: $0.002456 (US)\n"
     ]
    },
    {
     "output_type": "stream",
     "name": "stderr",
     "text": [
      "\n"
     ]
    }
   ],
   "metadata": {}
  }
 ],
 "metadata": {
  "orig_nbformat": 4,
  "language_info": {
   "name": "python",
   "version": "3.8.5",
   "mimetype": "text/x-python",
   "codemirror_mode": {
    "name": "ipython",
    "version": 3
   },
   "pygments_lexer": "ipython3",
   "nbconvert_exporter": "python",
   "file_extension": ".py"
  },
  "kernelspec": {
   "name": "python3",
   "display_name": "Python 3.8.5 64-bit ('base': conda)"
  },
  "interpreter": {
   "hash": "0c2a3eb2b4bb7385d62df44902d8a819643fb968efd7b2f0d85bc574e8a1e85b"
  }
 },
 "nbformat": 4,
 "nbformat_minor": 2
}