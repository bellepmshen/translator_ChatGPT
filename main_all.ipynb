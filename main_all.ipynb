{
 "cells": [
  {
   "cell_type": "code",
   "execution_count": 1,
   "source": [
    "# the module for extract text from a given PDF file\n",
    "from extract_text_all import PDF_to_Text\n",
    "# the module for ChatGPT translation via API call\n",
    "from translator_all import Translator"
   ],
   "outputs": [],
   "metadata": {}
  },
  {
   "cell_type": "code",
   "execution_count": 2,
   "source": [
    "def text_extractor():\n",
    "    \"\"\"This funciton is to extract the text contents from a PDF file.\n",
    "\n",
    "    Returns\n",
    "    -------\n",
    "    str\n",
    "        the last paragraph of the PDF file and the path for storing these \\\n",
    "        paragraph txt files\n",
    "    \"\"\"\n",
    "    try:\n",
    "        # initiate the class:\n",
    "        t_extractor = PDF_to_Text()\n",
    "        # create a directory to store the extracted text\n",
    "        t_extractor.create_directory()\n",
    "        # read a PDF file:\n",
    "        pdf = t_extractor.read_pdf()\n",
    "        # get all texts from a PDF file:\n",
    "        articles = t_extractor.get_txt()\n",
    "        # break down the document into paragraph level\n",
    "        doc = t_extractor.iterate()\n",
    "        \n",
    "        return doc\n",
    "    \n",
    "    except Exception as err:\n",
    "        print(err)\n",
    "\n",
    "def ChatGPT_translation(language):\n",
    "    \"\"\"This function is to execute the API call for ChatGPT translation.\n",
    "\n",
    "    Parameters\n",
    "    ----------\n",
    "    language : str\n",
    "        the language you want ChatGPT to translate into\n",
    "    Returns\n",
    "    -------\n",
    "    Pandas Dataframe, str\n",
    "        the df with API log and the translation text\n",
    "    \"\"\"\n",
    "    try:\n",
    "        # initiate the class\n",
    "        t = Translator(language)\n",
    "        # create a directory for storing translation results\n",
    "        t.create_directory()\n",
    "        # get the file list from the paragraph text files\n",
    "        metadata = t.get_metadata()\n",
    "        # Ask ChatGPT to translate each paragraph txt file via API call\n",
    "        doc, translation_content = t.iterate()\n",
    "        # merge all the translation result files into a final txt file\n",
    "        t_results = t.merge_files()\n",
    "        # showing the cumulative price & tokens for this PDF translation\n",
    "        total_tokens = t.price_calculation()\n",
    "\n",
    "        return doc, t_results, total_tokens\n",
    "    \n",
    "    except Exception as err:\n",
    "        print(err)"
   ],
   "outputs": [],
   "metadata": {}
  },
  {
   "cell_type": "code",
   "execution_count": 3,
   "source": [
    "if __name__ == '__main__':\n",
    "    \n",
    "    language = 'traditional chinese' # put the language you'd like to ChatGPT to translate\n",
    "\n",
    "    doc = text_extractor()\n",
    "    doc, t_results, total_tokens = ChatGPT_translation(language)"
   ],
   "outputs": [
    {
     "output_type": "stream",
     "name": "stdout",
     "text": [
      "finishing extracting paper Sci. Rep. 7, 161 (2017).pdf\n",
      "\n",
      "\n"
     ]
    },
    {
     "output_type": "stream",
     "name": "stderr",
     "text": [
      "100%|██████████| 2/2 [00:59<00:00, 29.94s/it]"
     ]
    },
    {
     "output_type": "stream",
     "name": "stdout",
     "text": [
      "\n",
      "Here is the summary of cost for this API call:\n",
      "total tokens: 1695, price: $0.0033900000000000002 (US)\n"
     ]
    },
    {
     "output_type": "stream",
     "name": "stderr",
     "text": [
      "\n"
     ]
    }
   ],
   "metadata": {}
  },
  {
   "cell_type": "code",
   "execution_count": null,
   "source": [],
   "outputs": [],
   "metadata": {}
  }
 ],
 "metadata": {
  "orig_nbformat": 4,
  "language_info": {
   "name": "python",
   "version": "3.8.5",
   "mimetype": "text/x-python",
   "codemirror_mode": {
    "name": "ipython",
    "version": 3
   },
   "pygments_lexer": "ipython3",
   "nbconvert_exporter": "python",
   "file_extension": ".py"
  },
  "kernelspec": {
   "name": "python3",
   "display_name": "Python 3.8.5 64-bit ('base': conda)"
  },
  "interpreter": {
   "hash": "0c2a3eb2b4bb7385d62df44902d8a819643fb968efd7b2f0d85bc574e8a1e85b"
  }
 },
 "nbformat": 4,
 "nbformat_minor": 2
}